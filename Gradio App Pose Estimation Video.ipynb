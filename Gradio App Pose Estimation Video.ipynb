{
 "cells": [
  {
   "cell_type": "code",
   "execution_count": 1,
   "metadata": {},
   "outputs": [],
   "source": [
    "import numpy as np\n",
    "import gradio as gr\n",
    "import tensorflow as tf\n",
    "from tensorflow import keras\n",
    "import cv2\n",
    "import mediapipe as mp\n",
    "mp_drawing = mp.solutions.drawing_utils\n",
    "mp_pose = mp.solutions.pose\n",
    "from matplotlib import pyplot as plt\n",
    "import pandas as pd"
   ]
  },
  {
   "cell_type": "code",
   "execution_count": 2,
   "metadata": {},
   "outputs": [],
   "source": [
    "window_name = \"window\"\n",
    "labels = ['Sagittal','Frontal']"
   ]
  },
  {
   "cell_type": "code",
   "execution_count": 3,
   "metadata": {},
   "outputs": [],
   "source": [
    "Sag_Fron_Class_Model = keras.models.load_model('Image_Class_sagittal_frontal_model_7.tflearn')"
   ]
  },
  {
   "cell_type": "code",
   "execution_count": 4,
   "metadata": {},
   "outputs": [],
   "source": [
    "def calculate_angle(a,b,c):\n",
    "    a = np.array(a) # First\n",
    "    b = np.array(b) # Mid\n",
    "    c = np.array(c) # End\n",
    "    \n",
    "    radians = np.arctan2(c[1]-b[1], c[0]-b[0]) - np.arctan2(a[1]-b[1], a[0]-b[0])\n",
    "    angle = np.abs(radians*180.0/np.pi)\n",
    "    \n",
    "    if angle >180.0:\n",
    "        angle = 360-angle\n",
    "        \n",
    "    return angle "
   ]
  },
  {
   "cell_type": "code",
   "execution_count": 5,
   "metadata": {},
   "outputs": [],
   "source": [
    "def video_flip(video):\n",
    "    Knee_Angles = []\n",
    "    Knee_Projection_Angles = []\n",
    "    Total_Time = []\n",
    "    Sagittal_Num = []\n",
    "    Frontal_Num = []\n",
    "    Sag_Fron_Class = []\n",
    "    Sagittal_Percent = []\n",
    "    Frontal_Percent = []\n",
    "    \n",
    "    cap = cv2.VideoCapture(video)\n",
    "    fps = cap.get(cv2.CAP_PROP_FPS)\n",
    "    fps = round(fps, 0)\n",
    "       \n",
    "    if not cap.isOpened():\n",
    "        print(\"Error: Could not open video.\")\n",
    "        exit()\n",
    "\n",
    "    cv2.namedWindow(window_name, cv2.WND_PROP_FULLSCREEN)\n",
    "    cv2.setWindowProperty(window_name, cv2.WND_PROP_FULLSCREEN, cv2.WINDOW_FULLSCREEN)\n",
    "\n",
    "    ## Setup mediapipe instance\n",
    "    with mp_pose.Pose(min_detection_confidence=0.5, min_tracking_confidence=0.5) as pose:\n",
    "        while (True):\n",
    "            ret, frame = cap.read()\n",
    "            if not ret:\n",
    "                print(\"Reached end of video, exiting.\")\n",
    "                break\n",
    "        \n",
    "            #Sagittal/Frontal Plane Classification\n",
    "            size = (456,608)\n",
    "            image2 = cv2.resize(frame,size)\n",
    "            image2 = image2.reshape(1,456,608,3)\n",
    "            Sag_Fron_Class_pred = Sag_Fron_Class_Model.predict(image2)\n",
    "            Sag_Fron_Class_pred = np.argmax(np.round(Sag_Fron_Class_pred),axis=1)\n",
    "            Sag_Fron_Class.extend(Sag_Fron_Class_pred)\n",
    "        \n",
    "            # Recolor image to RGB\n",
    "            image = cv2.cvtColor(frame, cv2.COLOR_BGR2RGB)\n",
    "            image.flags.writeable = False\n",
    "      \n",
    "            # Make detection\n",
    "            results = pose.process(image)\n",
    "    \n",
    "            # Recolor back to BGR\n",
    "            image.flags.writeable = True\n",
    "            image = cv2.cvtColor(image, cv2.COLOR_RGB2BGR)\n",
    "        \n",
    "            # Extract landmarks\n",
    "            try:\n",
    "                landmarks = results.pose_landmarks.landmark\n",
    "            \n",
    "                # Get coordinates\n",
    "                RShoulder = [landmarks[mp_pose.PoseLandmark.RIGHT_SHOULDER.value].x,landmarks[mp_pose.PoseLandmark.RIGHT_SHOULDER.value].y]\n",
    "                RHip = [landmarks[mp_pose.PoseLandmark.RIGHT_HIP.value].x,landmarks[mp_pose.PoseLandmark.RIGHT_HIP.value].y]\n",
    "                RKnee = [landmarks[mp_pose.PoseLandmark.RIGHT_KNEE.value].x,landmarks[mp_pose.PoseLandmark.RIGHT_KNEE.value].y]\n",
    "                RAnkle = [landmarks[mp_pose.PoseLandmark.RIGHT_ANKLE.value].x,landmarks[mp_pose.PoseLandmark.RIGHT_ANKLE.value].y]\n",
    "                RToe = [landmarks[mp_pose.PoseLandmark.RIGHT_FOOT_INDEX.value].x,landmarks[mp_pose.PoseLandmark.RIGHT_FOOT_INDEX.value].y]\n",
    "                Vert_Knee_Line = [landmarks[mp_pose.PoseLandmark.RIGHT_KNEE.value].x,landmarks[mp_pose.PoseLandmark.RIGHT_KNEE.value].y+.1]\n",
    "                Knee_Angle = calculate_angle(Vert_Knee_Line, RKnee, RAnkle)\n",
    "                \n",
    "                Knee_Angles.append(Knee_Angle)\n",
    "                #find points to find frontal plane knee projections angle\n",
    "                Kne_Ank_Diff = (RKnee[0]-RAnkle[0],RKnee[1]-RAnkle[1])\n",
    "                Knee_Projection = (RKnee[0]+Kne_Ank_Diff[0],RKnee[1]+Kne_Ank_Diff[1])\n",
    "                Knee_Projection_Angle = calculate_angle(RKnee,RHip,Knee_Projection)\n",
    "                Knee_Projection_Angles.append(Knee_Projection_Angle)\n",
    "                \n",
    "                knee_line.append(Vert_Knee_Line)\n",
    "                              \n",
    "            except:\n",
    "                pass\n",
    "        \n",
    "            # Render detections\n",
    "            mp_drawing.draw_landmarks(image, results.pose_landmarks, mp_pose.POSE_CONNECTIONS,\n",
    "                                    mp_drawing.DrawingSpec(color=(245,117,66), thickness=2, circle_radius=2), \n",
    "                                    mp_drawing.DrawingSpec(color=(245,66,230), thickness=2, circle_radius=2) \n",
    "                                        )\n",
    "            cv2.imshow(window_name, image)\n",
    "            \n",
    "            if ret == True:\n",
    "                cv2.namedWindow(\"window\", cv2.WND_PROP_FULLSCREEN)\n",
    "                cv2.setWindowProperty(\"window\",cv2.WND_PROP_FULLSCREEN,\n",
    "                        cv2.WINDOW_FULLSCREEN)\n",
    "                if cv2.waitKey(30) & 0xFF == ord('q'):\n",
    "                    print(\"Exit requested\")\n",
    "                    break\n",
    "\n",
    "        cap.release()\n",
    "        cv2.destroyAllWindows()\n",
    "            \n",
    "    for i in range(len(Sag_Fron_Class)):\n",
    "        if Sag_Fron_Class[i] == 0:\n",
    "            Sagittal_Count = 1\n",
    "            Sagittal_Num.append(Sagittal_Count)\n",
    "        if Sag_Fron_Class[i] == 1:\n",
    "            Frontal_Count = 1\n",
    "            Frontal_Num.append(Frontal_Count)\n",
    "    Sagittal_Percent = (len(Sagittal_Num))/(len(Sag_Fron_Class))\n",
    "    Frontal_Percent = (len(Frontal_Num))/(len(Sag_Fron_Class))\n",
    "    print(Sagittal_Percent)\n",
    "    \n",
    "    #df2 = pd.DataFrame(Sagittal_Percent,Frontal_Percent)\n",
    "    #df2['Frontal'] = list(Frontal_Percent)\n",
    "    #df2.columns=['Sagittal','Frontal']\n",
    "        \n",
    "    if len(Sagittal_Num) > len(Frontal_Num):\n",
    "        Cam_Angle = 'Sagittal'\n",
    "    elif len(Frontal_Num) > len(Sagittal_Num):\n",
    "        Cam_Angle = 'Frontal'\n",
    "        print(Cam_Angle)\n",
    "    df=pd.DataFrame(range(len(Knee_Angles)))\n",
    "    if Cam_Angle == 'Sagittal':\n",
    "        df['Sagittal Knee Angles'] = Knee_Angles\n",
    "        df.columns= ['Time','Sagittal Knee Angles']\n",
    "    if Cam_Angle == 'Frontal':\n",
    "        df['Frontal Knee Angles'] = Knee_Projection_Angles\n",
    "        df.columns= ['Time','Frontal Knee Angles']\n",
    "    #return df\n",
    "    return (\n",
    "        df,\n",
    "        {\"Sagittal\": Sagittal_Percent, \"Frontal\": Frontal_Percent},\n",
    "    )\n",
    "        #{\"Sagittal\": pd.DataFrame(list(len(Sagittal_Num)/len(Sag_Fron_Class))), \"Frontal\": pd.DataFrame(list(len(Frontal_Num)/len(Sag_Fron_Class)))},        "
   ]
  },
  {
   "cell_type": "code",
   "execution_count": 6,
   "metadata": {},
   "outputs": [],
   "source": [
    "video = gr.inputs.Video(source=\"upload\")\n",
    "time_series = gr.outputs.Timeseries(x='Time', y=['Knee Angles'])\n",
    "label = gr.outputs.Label(label=\"Camera View\")"
   ]
  },
  {
   "cell_type": "code",
   "execution_count": 7,
   "metadata": {
    "scrolled": true
   },
   "outputs": [
    {
     "name": "stdout",
     "output_type": "stream",
     "text": [
      "Running on local URL:  http://127.0.0.1:7860/\n",
      "Running on public URL: https://44463.gradio.app\n",
      "\n",
      "This share link expires in 72 hours. For free permanent hosting, check out Spaces (https://huggingface.co/spaces)\n"
     ]
    },
    {
     "data": {
      "text/html": [
       "\n",
       "        <iframe\n",
       "            width=\"900\"\n",
       "            height=\"500\"\n",
       "            src=\"https://44463.gradio.app\"\n",
       "            frameborder=\"0\"\n",
       "            allowfullscreen\n",
       "        ></iframe>\n",
       "        "
      ],
      "text/plain": [
       "<IPython.lib.display.IFrame at 0x1558d77a160>"
      ]
     },
     "metadata": {},
     "output_type": "display_data"
    },
    {
     "data": {
      "text/plain": [
       "(<fastapi.applications.FastAPI at 0x1556361f0d0>,\n",
       " 'http://127.0.0.1:7860/',\n",
       " 'https://44463.gradio.app')"
      ]
     },
     "execution_count": 7,
     "metadata": {},
     "output_type": "execute_result"
    },
    {
     "name": "stdout",
     "output_type": "stream",
     "text": [
      "Reached end of video, exiting.\n",
      "0.15\n",
      "Frontal\n",
      "Reached end of video, exiting.\n",
      "0.15\n",
      "Frontal\n",
      "Reached end of video, exiting.\n",
      "0.875\n",
      "Reached end of video, exiting.\n",
      "0.0\n",
      "Frontal\n"
     ]
    }
   ],
   "source": [
    "iface = gr.Interface(\n",
    "    video_flip,\n",
    "    [\n",
    "        video],[time_series,label,],)\n",
    "iface.launch(share=True)"
   ]
  },
  {
   "cell_type": "code",
   "execution_count": null,
   "metadata": {},
   "outputs": [],
   "source": []
  }
 ],
 "metadata": {
  "kernelspec": {
   "display_name": "Python 3",
   "language": "python",
   "name": "python3"
  },
  "language_info": {
   "codemirror_mode": {
    "name": "ipython",
    "version": 3
   },
   "file_extension": ".py",
   "mimetype": "text/x-python",
   "name": "python",
   "nbconvert_exporter": "python",
   "pygments_lexer": "ipython3",
   "version": "3.8.5"
  }
 },
 "nbformat": 4,
 "nbformat_minor": 4
}
